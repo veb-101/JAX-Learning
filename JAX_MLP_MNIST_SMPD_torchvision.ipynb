{
  "cells": [
    {
      "cell_type": "code",
      "execution_count": 1,
      "metadata": {
        "id": "_-iwDuUCNjdc"
      },
      "outputs": [],
      "source": [
        "import os\n",
        "os.environ[\"XLA_FLAGS\"] = '--xla_force_host_platform_device_count=8' # Use 8 CPU"
      ]
    },
    {
      "cell_type": "code",
      "execution_count": 2,
      "metadata": {
        "id": "JWbyTGotLABw"
      },
      "outputs": [],
      "source": [
        "import jax"
      ]
    },
    {
      "cell_type": "code",
      "execution_count": 3,
      "metadata": {
        "colab": {
          "base_uri": "https://localhost:8080/"
        },
        "id": "4QfPbYxQLc6A",
        "outputId": "96e0d4e1-0d35-4d67-95fe-ce5370885dca"
      },
      "outputs": [
        {
          "data": {
            "text/plain": [
              "[CpuDevice(id=0),\n",
              " CpuDevice(id=1),\n",
              " CpuDevice(id=2),\n",
              " CpuDevice(id=3),\n",
              " CpuDevice(id=4),\n",
              " CpuDevice(id=5),\n",
              " CpuDevice(id=6),\n",
              " CpuDevice(id=7)]"
            ]
          },
          "execution_count": 3,
          "metadata": {},
          "output_type": "execute_result"
        }
      ],
      "source": [
        "jax.devices()"
      ]
    },
    {
      "cell_type": "code",
      "execution_count": 4,
      "metadata": {
        "colab": {
          "base_uri": "https://localhost:8080/"
        },
        "id": "JkBFsB3qLems",
        "outputId": "6283b37e-2c67-4399-b63f-9fbac62a0f52"
      },
      "outputs": [
        {
          "data": {
            "text/plain": [
              "8"
            ]
          },
          "execution_count": 4,
          "metadata": {},
          "output_type": "execute_result"
        }
      ],
      "source": [
        "jax.device_count()"
      ]
    },
    {
      "cell_type": "code",
      "execution_count": 10,
      "metadata": {
        "id": "IMLEL4TlLiaF"
      },
      "outputs": [],
      "source": [
        "import jax.numpy as jnp\n",
        "import numpy as np\n",
        "\n",
        "def linear_layer(x, w):\n",
        "    print(x.shape, w.shape)\n",
        "    return jnp.dot(x, w)"
      ]
    },
    {
      "cell_type": "code",
      "execution_count": 11,
      "metadata": {
        "id": "0y7H7bUKN50g"
      },
      "outputs": [],
      "source": [
        "n = 16\n",
        "d = 3\n",
        "devices = jax.device_count()"
      ]
    },
    {
      "cell_type": "code",
      "execution_count": 12,
      "metadata": {
        "id": "xTNcFR6eN-Bm"
      },
      "outputs": [],
      "source": [
        "xs = jnp.array(np.random.rand(n, d))\n",
        "ws = jnp.array(np.random.rand(d,))"
      ]
    },
    {
      "cell_type": "code",
      "execution_count": 13,
      "metadata": {
        "colab": {
          "base_uri": "https://localhost:8080/"
        },
        "id": "Vf633LGtN-NX",
        "outputId": "58eb5c1a-56b8-4a5e-d7fd-00fdafad9167"
      },
      "outputs": [
        {
          "name": "stdout",
          "output_type": "stream",
          "text": [
            "(2, 3) (3,)\n",
            "(8, 2)\n"
          ]
        }
      ],
      "source": [
        "x_parts = np.stack(jnp.split(xs, devices))\n",
        "w_parts = jax.tree_map(lambda x: jnp.stack([x for _ in range(devices)]), ws)\n",
        "\n",
        "out = jax.pmap(linear_layer)(x_parts, w_parts)\n",
        "print(out.shape) # (8, 2), out is a matrix of shape (n_devices, n_data // n_devices)"
      ]
    },
    {
      "cell_type": "code",
      "execution_count": 14,
      "metadata": {
        "colab": {
          "base_uri": "https://localhost:8080/"
        },
        "id": "0e4gMBeQQTAu",
        "outputId": "aca61c23-b4e8-46b5-cb5d-3f5055c57072"
      },
      "outputs": [
        {
          "data": {
            "text/plain": [
              "(8, 2, 3)"
            ]
          },
          "execution_count": 14,
          "metadata": {},
          "output_type": "execute_result"
        }
      ],
      "source": [
        "x_parts.shape"
      ]
    },
    {
      "cell_type": "code",
      "execution_count": 15,
      "metadata": {
        "colab": {
          "base_uri": "https://localhost:8080/"
        },
        "id": "c42auDbcOCpl",
        "outputId": "625f5d1d-c2bd-4c8f-ea7e-8c40973a0ba0"
      },
      "outputs": [
        {
          "name": "stdout",
          "output_type": "stream",
          "text": [
            "(2, 3) (3,)\n",
            "(8, 2)\n"
          ]
        }
      ],
      "source": [
        "out = jax.pmap(linear_layer, in_axes=(0, None))(x_parts, ws)\n",
        "print(out.shape) # (8, 2), out is a matrix of shape (n_devices, n_data // n_devices)"
      ]
    },
    {
      "cell_type": "code",
      "execution_count": 16,
      "metadata": {
        "id": "hBvZH8cmOG-d"
      },
      "outputs": [],
      "source": [
        "import numpy as np\n",
        "\n",
        "import jax\n",
        "import jax.random as random\n",
        "import jax.numpy as jnp\n",
        "from jax.scipy.special import logsumexp\n",
        "from jax import jit, vmap, pmap, grad, value_and_grad\n",
        "\n",
        "from torchvision.datasets import MNIST\n",
        "from torch.utils.data import DataLoader\n",
        "\n",
        "from typing import List, Tuple, Dict"
      ]
    },
    {
      "cell_type": "code",
      "execution_count": 17,
      "metadata": {
        "colab": {
          "base_uri": "https://localhost:8080/"
        },
        "id": "xUJafbr0OPEB",
        "outputId": "9fb11d5a-83f5-4bc8-eda1-5ef97c7e342c"
      },
      "outputs": [
        {
          "name": "stdout",
          "output_type": "stream",
          "text": [
            "Number of available devices: 8\n"
          ]
        }
      ],
      "source": [
        "n_devices = jax.local_device_count()\n",
        "print(f'Number of available devices: {n_devices}')"
      ]
    },
    {
      "cell_type": "code",
      "execution_count": 18,
      "metadata": {
        "id": "9BBjuEphOPGw"
      },
      "outputs": [],
      "source": [
        "SEED = 42\n",
        "MNIST_IMG_SIZE = (28, 28)\n",
        "NUM_INP_NODES = np.prod(MNIST_IMG_SIZE)\n",
        "NUM_CLASSES = 10"
      ]
    },
    {
      "cell_type": "code",
      "execution_count": 19,
      "metadata": {
        "id": "dr8bJGHmOPJ3"
      },
      "outputs": [],
      "source": [
        "def init_MLP(layer_widths: List, parent_key, scale: float=0.01):\n",
        "\n",
        "    params = []\n",
        "\n",
        "    keys = random.split(parent_key, num=len(layer_widths) - 1)\n",
        "\n",
        "    for num_in_nodes, num_out_nodes, key in zip(layer_widths[:-1], layer_widths[1:], keys):\n",
        "        weight_key, bias_key = random.split(key)\n",
        "\n",
        "        params.append(\n",
        "            [\n",
        "                scale * random.normal(weight_key, shape=(num_in_nodes, num_out_nodes)),\n",
        "                scale * random.normal(bias_key, shape=(num_out_nodes,)),\n",
        "            ]\n",
        "        )\n",
        "\n",
        "    return params"
      ]
    },
    {
      "cell_type": "code",
      "execution_count": 20,
      "metadata": {
        "colab": {
          "base_uri": "https://localhost:8080/"
        },
        "id": "kBorHIsMTI65",
        "outputId": "6add43ee-fd10-4814-bd17-6e0e17165ea5"
      },
      "outputs": [
        {
          "name": "stdout",
          "output_type": "stream",
          "text": [
            "[[(784, 512), (512,)], [(512, 256), (256,)], [(256, 10), (10,)]]\n"
          ]
        }
      ],
      "source": [
        "# test\n",
        "key = random.PRNGKey(SEED)\n",
        "MLP_params = init_MLP([NUM_INP_NODES, 512, 256, NUM_CLASSES], key)\n",
        "print(jax.tree_map(lambda x: x.shape, MLP_params))"
      ]
    },
    {
      "cell_type": "code",
      "execution_count": 21,
      "metadata": {
        "id": "52S-fzNPOPNn"
      },
      "outputs": [],
      "source": [
        "def MLP_predict(params, x):\n",
        "\n",
        "    hidden_layers = params[:-1]\n",
        "\n",
        "    activation = x\n",
        "\n",
        "    # print(\"activation.shape\", activation.shape)\n",
        "    for w, b in hidden_layers:\n",
        "        # print(\"w.shape\", w.shape)\n",
        "        activation = jax.nn.relu(jnp.dot(activation, w) + b) # 16x784 x 512x784 = 16x784 x 784x512 = 16x512 x 512x256 = 16x256 x 256x10 = 16x10\n",
        "        # print(\"activation.shape\", activation.shape)\n",
        "\n",
        "    w_last, b_last = params[-1]\n",
        "    # print(\"w_last.shape\", w_last.shape)\n",
        "    # print(\"activation.shape\", activation.shape)\n",
        "    logits = jnp.dot(activation, w_last) + b_last\n",
        "    # print(\"logits.shape\", logits.shape)\n",
        "\n",
        "    # return logits - logsumexp(logits, axis=0) \n",
        "    return logits - logsumexp(logits, axis=1, keepdims=True)"
      ]
    },
    {
      "cell_type": "code",
      "execution_count": 22,
      "metadata": {
        "colab": {
          "base_uri": "https://localhost:8080/"
        },
        "id": "TVGOEGs1OPPY",
        "outputId": "93351fc0-ba2a-408e-e4ce-e2ee7e88b9ec"
      },
      "outputs": [
        {
          "name": "stdout",
          "output_type": "stream",
          "text": [
            "(784,)\n",
            "(10,)\n",
            "(16, 784)\n",
            "(16, 10)\n"
          ]
        }
      ],
      "source": [
        "# tests\n",
        "\n",
        "# test single example\n",
        "\n",
        "dummy_img_flat = np.random.randn(NUM_INP_NODES)\n",
        "print(dummy_img_flat.shape)\n",
        "\n",
        "prediction = MLP_predict(MLP_params, dummy_img_flat)\n",
        "print(prediction.shape)\n",
        "\n",
        "# test batched function: method 1\n",
        "\n",
        "dummy_imgs_flat = np.random.randn(16, NUM_INP_NODES)\n",
        "print(dummy_imgs_flat.shape)\n",
        "\n",
        "batched_MLP_predict = vmap(MLP_predict, in_axes=(None, 0))\n",
        "predictions = batched_MLP_predict(MLP_params, dummy_imgs_flat)\n",
        "print(predictions.shape)"
      ]
    },
    {
      "cell_type": "code",
      "execution_count": 23,
      "metadata": {
        "id": "QfQe8dlkAQw7"
      },
      "outputs": [],
      "source": [
        "# print(predictions)"
      ]
    },
    {
      "cell_type": "code",
      "execution_count": 24,
      "metadata": {
        "colab": {
          "base_uri": "https://localhost:8080/"
        },
        "id": "LYslLe3_MM0r",
        "outputId": "e51921a6-a2ba-4b94-c10d-f97cf9c6ac1c"
      },
      "outputs": [
        {
          "name": "stdout",
          "output_type": "stream",
          "text": [
            "(16, 10)\n"
          ]
        }
      ],
      "source": [
        "from functools import partial\n",
        "\n",
        "# test batched function: method 2\n",
        "\n",
        "batched_MLP_predict = vmap(partial(MLP_predict, MLP_params))\n",
        "\n",
        "predictions = batched_MLP_predict(dummy_imgs_flat)\n",
        "print(predictions.shape)"
      ]
    },
    {
      "cell_type": "code",
      "execution_count": 25,
      "metadata": {
        "id": "xARDjslDAV3q"
      },
      "outputs": [],
      "source": [
        "# print(predictions)"
      ]
    },
    {
      "cell_type": "code",
      "execution_count": 27,
      "metadata": {
        "colab": {
          "base_uri": "https://localhost:8080/"
        },
        "id": "FdCED58KNvCs",
        "outputId": "3cd406fc-6412-45fe-bdfa-761b40d07107"
      },
      "outputs": [
        {
          "name": "stdout",
          "output_type": "stream",
          "text": [
            "[1.1566511 1.1805044 1.2052325 1.20457   1.1876906 1.203792  1.2322344\n",
            " 1.2015207]\n"
          ]
        }
      ],
      "source": [
        "from jax import random, pmap\n",
        "import jax.numpy as jnp\n",
        "\n",
        "# Create 8 random 5000 x 6000 matrices, one per GPU\n",
        "keys = random.split(random.PRNGKey(0), 8)\n",
        "mats = pmap(lambda key: random.normal(key, (5000, 6000)))(keys)\n",
        "\n",
        "# Run a local matmul on each device in parallel (no data transfer)\n",
        "result = pmap(lambda x: jnp.dot(x, x.T))(mats)  # result.shape is (8, 5000, 5000)\n",
        "\n",
        "# Compute the mean on each device in parallel and print the result\n",
        "print(pmap(jnp.mean)(result))\n",
        "# prints [1.1566595 1.1805978 ... 1.2321935 1.2015157]"
      ]
    },
    {
      "cell_type": "code",
      "execution_count": 28,
      "metadata": {
        "colab": {
          "base_uri": "https://localhost:8080/"
        },
        "id": "zpKeUM8jOOn_",
        "outputId": "dde7da35-3742-4bd2-e51d-6d30bb244ca7"
      },
      "outputs": [
        {
          "data": {
            "text/plain": [
              "Array([0, 0], dtype=uint32)"
            ]
          },
          "execution_count": 28,
          "metadata": {},
          "output_type": "execute_result"
        }
      ],
      "source": [
        "random.PRNGKey(0)"
      ]
    },
    {
      "cell_type": "code",
      "execution_count": 29,
      "metadata": {
        "id": "pJClqxD7Rz_z"
      },
      "outputs": [],
      "source": [
        "def custom_transform(x):\n",
        "    return np.ravel(np.array(x, dtype=np.float32))\n",
        "\n",
        "def custom_collate_fn(batch):\n",
        "    \"\"\"Required because pytorch will convert the images and labels into torch tensors.\"\"\"\n",
        "    transposed_data = list(zip(*batch))\n",
        "\n",
        "    imgs = jnp.stack(transposed_data[0])\n",
        "    labels = jnp.array(transposed_data[1])\n",
        "\n",
        "    imgs = jnp.stack(jnp.split(imgs, jax.device_count()))\n",
        "    labels = jnp.stack(jnp.split(labels, jax.device_count()))\n",
        "\n",
        "    return imgs, labels"
      ]
    },
    {
      "cell_type": "code",
      "execution_count": 30,
      "metadata": {
        "colab": {
          "base_uri": "https://localhost:8080/"
        },
        "id": "9jFl2A-RZ4rA",
        "outputId": "00d47217-c149-4251-84ca-3ebe6a009b9f"
      },
      "outputs": [
        {
          "name": "stdout",
          "output_type": "stream",
          "text": [
            "Downloading http://yann.lecun.com/exdb/mnist/train-images-idx3-ubyte.gz\n",
            "Downloading http://yann.lecun.com/exdb/mnist/train-images-idx3-ubyte.gz to train_mnist/MNIST/raw/train-images-idx3-ubyte.gz\n"
          ]
        },
        {
          "name": "stderr",
          "output_type": "stream",
          "text": [
            "100%|██████████| 9912422/9912422 [00:00<00:00, 138223098.88it/s]"
          ]
        },
        {
          "name": "stdout",
          "output_type": "stream",
          "text": [
            "Extracting train_mnist/MNIST/raw/train-images-idx3-ubyte.gz to train_mnist/MNIST/raw\n"
          ]
        },
        {
          "name": "stderr",
          "output_type": "stream",
          "text": [
            "\n"
          ]
        },
        {
          "name": "stdout",
          "output_type": "stream",
          "text": [
            "\n",
            "Downloading http://yann.lecun.com/exdb/mnist/train-labels-idx1-ubyte.gz\n",
            "Downloading http://yann.lecun.com/exdb/mnist/train-labels-idx1-ubyte.gz to train_mnist/MNIST/raw/train-labels-idx1-ubyte.gz\n"
          ]
        },
        {
          "name": "stderr",
          "output_type": "stream",
          "text": [
            "100%|██████████| 28881/28881 [00:00<00:00, 70633057.62it/s]\n"
          ]
        },
        {
          "name": "stdout",
          "output_type": "stream",
          "text": [
            "Extracting train_mnist/MNIST/raw/train-labels-idx1-ubyte.gz to train_mnist/MNIST/raw\n",
            "\n",
            "Downloading http://yann.lecun.com/exdb/mnist/t10k-images-idx3-ubyte.gz\n",
            "Downloading http://yann.lecun.com/exdb/mnist/t10k-images-idx3-ubyte.gz to train_mnist/MNIST/raw/t10k-images-idx3-ubyte.gz\n"
          ]
        },
        {
          "name": "stderr",
          "output_type": "stream",
          "text": [
            "100%|██████████| 1648877/1648877 [00:00<00:00, 225957833.06it/s]\n"
          ]
        },
        {
          "name": "stdout",
          "output_type": "stream",
          "text": [
            "Extracting train_mnist/MNIST/raw/t10k-images-idx3-ubyte.gz to train_mnist/MNIST/raw\n",
            "\n",
            "Downloading http://yann.lecun.com/exdb/mnist/t10k-labels-idx1-ubyte.gz\n",
            "Downloading http://yann.lecun.com/exdb/mnist/t10k-labels-idx1-ubyte.gz to train_mnist/MNIST/raw/t10k-labels-idx1-ubyte.gz\n"
          ]
        },
        {
          "name": "stderr",
          "output_type": "stream",
          "text": [
            "100%|██████████| 4542/4542 [00:00<00:00, 7788441.85it/s]"
          ]
        },
        {
          "name": "stdout",
          "output_type": "stream",
          "text": [
            "Extracting train_mnist/MNIST/raw/t10k-labels-idx1-ubyte.gz to train_mnist/MNIST/raw\n",
            "\n"
          ]
        },
        {
          "name": "stderr",
          "output_type": "stream",
          "text": [
            "\n"
          ]
        },
        {
          "name": "stdout",
          "output_type": "stream",
          "text": [
            "Downloading http://yann.lecun.com/exdb/mnist/train-images-idx3-ubyte.gz\n",
            "Downloading http://yann.lecun.com/exdb/mnist/train-images-idx3-ubyte.gz to test_mnist/MNIST/raw/train-images-idx3-ubyte.gz\n"
          ]
        },
        {
          "name": "stderr",
          "output_type": "stream",
          "text": [
            "100%|██████████| 9912422/9912422 [00:00<00:00, 130012262.20it/s]\n"
          ]
        },
        {
          "name": "stdout",
          "output_type": "stream",
          "text": [
            "Extracting test_mnist/MNIST/raw/train-images-idx3-ubyte.gz to test_mnist/MNIST/raw\n",
            "\n",
            "Downloading http://yann.lecun.com/exdb/mnist/train-labels-idx1-ubyte.gz\n",
            "Downloading http://yann.lecun.com/exdb/mnist/train-labels-idx1-ubyte.gz to test_mnist/MNIST/raw/train-labels-idx1-ubyte.gz\n"
          ]
        },
        {
          "name": "stderr",
          "output_type": "stream",
          "text": [
            "100%|██████████| 28881/28881 [00:00<00:00, 29210439.79it/s]\n"
          ]
        },
        {
          "name": "stdout",
          "output_type": "stream",
          "text": [
            "Extracting test_mnist/MNIST/raw/train-labels-idx1-ubyte.gz to test_mnist/MNIST/raw\n",
            "\n",
            "Downloading http://yann.lecun.com/exdb/mnist/t10k-images-idx3-ubyte.gz\n",
            "Downloading http://yann.lecun.com/exdb/mnist/t10k-images-idx3-ubyte.gz to test_mnist/MNIST/raw/t10k-images-idx3-ubyte.gz\n"
          ]
        },
        {
          "name": "stderr",
          "output_type": "stream",
          "text": [
            "100%|██████████| 1648877/1648877 [00:00<00:00, 93983793.07it/s]"
          ]
        },
        {
          "name": "stdout",
          "output_type": "stream",
          "text": [
            "Extracting test_mnist/MNIST/raw/t10k-images-idx3-ubyte.gz to test_mnist/MNIST/raw\n"
          ]
        },
        {
          "name": "stderr",
          "output_type": "stream",
          "text": [
            "\n"
          ]
        },
        {
          "name": "stdout",
          "output_type": "stream",
          "text": [
            "\n",
            "Downloading http://yann.lecun.com/exdb/mnist/t10k-labels-idx1-ubyte.gz\n",
            "Downloading http://yann.lecun.com/exdb/mnist/t10k-labels-idx1-ubyte.gz to test_mnist/MNIST/raw/t10k-labels-idx1-ubyte.gz\n"
          ]
        },
        {
          "name": "stderr",
          "output_type": "stream",
          "text": [
            "100%|██████████| 4542/4542 [00:00<00:00, 7862372.58it/s]"
          ]
        },
        {
          "name": "stdout",
          "output_type": "stream",
          "text": [
            "Extracting test_mnist/MNIST/raw/t10k-labels-idx1-ubyte.gz to test_mnist/MNIST/raw\n",
            "\n"
          ]
        },
        {
          "name": "stderr",
          "output_type": "stream",
          "text": [
            "\n"
          ]
        }
      ],
      "source": [
        "BATCH_SIZE = 512\n",
        "train_dataset = MNIST(root='train_mnist', train=True, download=True, transform=custom_transform)\n",
        "test_dataset = MNIST(root='test_mnist', train=False, download=True, transform=custom_transform)\n",
        "\n",
        "train_loader = DataLoader(train_dataset, BATCH_SIZE, shuffle=True, collate_fn=custom_collate_fn, drop_last=True)\n",
        "test_loader = DataLoader(test_dataset, BATCH_SIZE, shuffle=False, collate_fn=custom_collate_fn, drop_last=True)"
      ]
    },
    {
      "cell_type": "code",
      "execution_count": 31,
      "metadata": {
        "colab": {
          "base_uri": "https://localhost:8080/"
        },
        "id": "yXcUNadYZ5sf",
        "outputId": "0122f770-ab79-461a-8608-51e999f671b5"
      },
      "outputs": [
        {
          "name": "stdout",
          "output_type": "stream",
          "text": [
            "(8, 64, 784) float32 (8, 64) int32\n"
          ]
        }
      ],
      "source": [
        "# test\n",
        "batch_data = next(iter(train_loader))\n",
        "imgs = batch_data[0]\n",
        "lbls = batch_data[1]\n",
        "print(imgs.shape, imgs[0].dtype, lbls.shape, lbls[0].dtype)"
      ]
    },
    {
      "cell_type": "code",
      "execution_count": 32,
      "metadata": {
        "id": "iYMgn-6lkXVR"
      },
      "outputs": [],
      "source": [
        "# for batch in iter(train_loader):\n",
        "#     imgs = batch_data[0]\n",
        "#     lbls = batch_data[1]\n",
        "#     print(imgs.shape, imgs[0].dtype, lbls.shape, lbls[0].dtype)"
      ]
    },
    {
      "cell_type": "code",
      "execution_count": 33,
      "metadata": {
        "id": "l2arI3SMZ8MF"
      },
      "outputs": [],
      "source": [
        "# optimization - loading the whole dataset into memory\n",
        "train_images = jnp.array(train_dataset.data).reshape(len(train_dataset), -1)\n",
        "train_lbls = jnp.array(train_dataset.targets)\n",
        "\n",
        "test_images = jnp.array(test_dataset.data).reshape(len(test_dataset), -1)\n",
        "test_lbls = jnp.array(test_dataset.targets)"
      ]
    },
    {
      "cell_type": "code",
      "execution_count": 34,
      "metadata": {
        "id": "7Bc-M2nlZ-AY"
      },
      "outputs": [],
      "source": [
        "def loss_fn(params, images, labels):\n",
        "    # print(\"images.shape, labels.shape\", images.shape, labels.shape)\n",
        "    prediction = MLP_predict(params, images)\n",
        "    # print(\"prediction.shape\", prediction.shape)\n",
        "\n",
        "    return -jnp.mean(jnp.sum(prediction * labels, axis=1))\n",
        "\n",
        "\n",
        "@jit\n",
        "def accuracy(params, dataset_imgs, dataset_lbls):\n",
        "    # target_class = jnp.argmax(dataset_lbls, axis=1)\n",
        "    predicted_class = jnp.argmax(MLP_predict(params, dataset_imgs), axis=1)\n",
        "    return jnp.mean(predicted_class == dataset_lbls)\n",
        "\n",
        "\n",
        "\n",
        "import functools\n",
        "\n",
        "@functools.partial(pmap, axis_name=\"batch\", static_broadcasted_argnums=3)\n",
        "def update(params, images, labels, step_size):\n",
        "\n",
        "    loss_value, grads = value_and_grad(loss_fn)(params, images, labels)\n",
        "\n",
        "    # We compute the total gradients, summing across the device-mapped axis,\n",
        "    # using the `lax.psum` SPMD primitive, which does a fast all-reduce-sum.\n",
        "    grads = [(jax.lax.pmean(dw, \"batch\"), jax.lax.pmean(db, \"batch\")) for dw, db in grads]\n",
        "\n",
        "    \"\"\"\n",
        "    When you use pmap in JAX, it parallelizes the function execution across multiple devices,\n",
        "    and the result you get back is a \"sharded\" array where each element corresponds to the result\n",
        "    from one of the devices. Even if you aggregate the values using lax.pmean, when you print the\n",
        "    result outside the pmap function, you will see an array where each element is the same\n",
        "    aggregated value, one from each device.\n",
        "    \"\"\"\n",
        "    loss_value_aggr = jax.lax.pmean(loss_value, axis_name=\"batch\")\n",
        "\n",
        "    return loss_value_aggr, [(w - step_size * dw, b - step_size * db) for (w, b), (dw, db) in zip(params, grads)]"
      ]
    },
    {
      "cell_type": "code",
      "execution_count": 35,
      "metadata": {
        "id": "MqA5pthxaBP6"
      },
      "outputs": [],
      "source": [
        "NUM_EPOCHS = 5\n",
        "LR = 1e-2"
      ]
    },
    {
      "cell_type": "code",
      "execution_count": 36,
      "metadata": {
        "colab": {
          "base_uri": "https://localhost:8080/"
        },
        "id": "FMVY13qpaBRS",
        "outputId": "c7c1a5b3-50a1-4b80-c8ea-db314120895e"
      },
      "outputs": [
        {
          "name": "stdout",
          "output_type": "stream",
          "text": [
            "[[(784, 512), (512,)], [(512, 256), (256,)], [(256, 10), (10,)]]\n",
            "[[(8, 784, 512), (8, 512)], [(8, 512, 256), (8, 256)], [(8, 256, 10), (8, 10)]]\n"
          ]
        }
      ],
      "source": [
        "# Create a MLP\n",
        "MLP_params = init_MLP([NUM_INP_NODES, 512, 256, len(MNIST.classes)], key)\n",
        "print(jax.tree_map(lambda p: p.shape, MLP_params))\n",
        "\n",
        "# Replicated to devices\n",
        "MLP_params = jax.tree_map(lambda x: jnp.array([x] * n_devices), MLP_params)\n",
        "print(jax.tree_map(lambda p: p.shape, MLP_params))"
      ]
    },
    {
      "cell_type": "code",
      "execution_count": 37,
      "metadata": {
        "colab": {
          "base_uri": "https://localhost:8080/"
        },
        "id": "P_yXN651aBS9",
        "outputId": "d3e6a73b-09b4-4b4c-f719-34c4d4f30484"
      },
      "outputs": [
        {
          "name": "stdout",
          "output_type": "stream",
          "text": [
            "4.1816835\n",
            "2.3606865\n",
            "2.315687\n",
            "Epoch 0, train acc = 0.9383666515350342 test acc = 0.9414999485015869\n",
            "2.2659068\n",
            "2.2056766\n",
            "2.1791258\n",
            "Epoch 1, train acc = 0.9557000398635864 test acc = 0.9535999894142151\n",
            "2.1463342\n",
            "2.1553676\n",
            "2.1014066\n",
            "Epoch 2, train acc = 0.9635666608810425 test acc = 0.9613999724388123\n",
            "2.1307936\n",
            "2.07494\n",
            "2.1368456\n",
            "Epoch 3, train acc = 0.9695833325386047 test acc = 0.9648999571800232\n",
            "2.1357253\n",
            "2.1224568\n",
            "2.0870843\n",
            "Epoch 4, train acc = 0.9738166928291321 test acc = 0.9679999947547913\n"
          ]
        }
      ],
      "source": [
        "for epoch in range(NUM_EPOCHS):\n",
        "\n",
        "    for cnt, (images, labels) in enumerate(train_loader):\n",
        "        labels = jax.nn.one_hot(labels, NUM_CLASSES)\n",
        "        loss, MLP_params = update(MLP_params, images, labels, LR)\n",
        "\n",
        "        if cnt % 50 == 0:\n",
        "            print(loss[0])\n",
        "    # print(f'Epoch {epoch}')\n",
        "    MLP_params_single = jax.tree_map(lambda x: x[0], MLP_params)\n",
        "    # print(jax.tree_map(lambda p: p.shape, MLP_params))\n",
        "    print(f'Epoch {epoch}, train acc = {accuracy(MLP_params_single, train_images, train_lbls)} test acc = {accuracy(MLP_params_single, test_images, test_lbls)}')\n",
        "    # break"
      ]
    },
    {
      "cell_type": "code",
      "execution_count": null,
      "metadata": {
        "id": "AspPtJGQaBWc"
      },
      "outputs": [],
      "source": [
        "# https://github.com/google/jax/blob/main/examples/spmd_mnist_classifier_fromscratch.py"
      ]
    },
    {
      "cell_type": "markdown",
      "metadata": {
        "id": "gyzFD-Z3so0H"
      },
      "source": [
        "\n",
        "Additional Resources:\n",
        "1.   [/docs/jax-101](https://github.com/google/jax/tree/main/docs/jax-101)\n",
        "2.   [/cloud_tpu_colabs](https://github.com/google/jax/tree/main/cloud_tpu_colabs)\n",
        "3.   [/examples](https://github.com/google/jax/tree/main/examples)\n",
        "4.   [/notebooks](https://github.com/google/jax/tree/main/docs/notebooks)\n"
      ]
    },
    {
      "cell_type": "code",
      "execution_count": null,
      "metadata": {
        "id": "i1ozioayaBfq"
      },
      "outputs": [],
      "source": []
    }
  ],
  "metadata": {
    "colab": {
      "provenance": []
    },
    "kernelspec": {
      "display_name": "Python 3",
      "name": "python3"
    },
    "language_info": {
      "name": "python"
    }
  },
  "nbformat": 4,
  "nbformat_minor": 0
}
